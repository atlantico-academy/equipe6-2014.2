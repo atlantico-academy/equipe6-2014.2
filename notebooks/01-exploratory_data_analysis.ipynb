{
 "cells": [
  {
   "cell_type": "markdown",
   "metadata": {},
   "source": [
    "# Análise exploratória de dados"
   ]
  },
  {
   "cell_type": "code",
   "execution_count": 67,
   "metadata": {
    "tags": []
   },
   "outputs": [],
   "source": [
    "import pandas as pd\n",
    "import matplotlib.pyplot as plt\n",
    "import seaborn as sns\n",
    "from IPython.display import display, Markdown as md\n",
    "%matplotlib inline"
   ]
  },
  {
   "cell_type": "markdown",
   "metadata": {
    "tags": []
   },
   "source": [
    "# 1. Descrição dos dados"
   ]
  },
  {
   "cell_type": "code",
   "execution_count": 116,
   "metadata": {},
   "outputs": [
    {
     "data": {
      "text/markdown": [
       "### `Descrição do DataSet`"
      ],
      "text/plain": [
       "<IPython.core.display.Markdown object>"
      ]
     },
     "metadata": {},
     "output_type": "display_data"
    },
    {
     "data": {
      "text/markdown": [
       " --- \n",
       " Este conjunto de dados contém informações sobre **clientes bancários e seu status de rotatividade**, \n",
       "                 o que indica se eles saíram do banco ou não. É adequado para explorar e analisar fatores que influenciam a \n",
       "                 rotatividade de clientes em instituições bancárias e para construir modelos preditivos para identificar clientes em risco de rotatividade.\n",
       "                 \n",
       "---   \n",
       "                "
      ],
      "text/plain": [
       "<IPython.core.display.Markdown object>"
      ]
     },
     "metadata": {},
     "output_type": "display_data"
    },
    {
     "data": {
      "text/markdown": [
       "### `DataSet`"
      ],
      "text/plain": [
       "<IPython.core.display.Markdown object>"
      ]
     },
     "metadata": {},
     "output_type": "display_data"
    },
    {
     "data": {
      "text/html": [
       "<div>\n",
       "<style scoped>\n",
       "    .dataframe tbody tr th:only-of-type {\n",
       "        vertical-align: middle;\n",
       "    }\n",
       "\n",
       "    .dataframe tbody tr th {\n",
       "        vertical-align: top;\n",
       "    }\n",
       "\n",
       "    .dataframe thead th {\n",
       "        text-align: right;\n",
       "    }\n",
       "</style>\n",
       "<table border=\"1\" class=\"dataframe\">\n",
       "  <thead>\n",
       "    <tr style=\"text-align: right;\">\n",
       "      <th></th>\n",
       "      <th>RowNumber</th>\n",
       "      <th>CustomerId</th>\n",
       "      <th>Surname</th>\n",
       "      <th>CreditScore</th>\n",
       "      <th>Geography</th>\n",
       "      <th>Gender</th>\n",
       "      <th>Age</th>\n",
       "      <th>Tenure</th>\n",
       "      <th>Balance</th>\n",
       "      <th>NumOfProducts</th>\n",
       "      <th>HasCrCard</th>\n",
       "      <th>IsActiveMember</th>\n",
       "      <th>EstimatedSalary</th>\n",
       "      <th>Exited</th>\n",
       "    </tr>\n",
       "  </thead>\n",
       "  <tbody>\n",
       "    <tr>\n",
       "      <th>0</th>\n",
       "      <td>1</td>\n",
       "      <td>15634602</td>\n",
       "      <td>Hargrave</td>\n",
       "      <td>619</td>\n",
       "      <td>France</td>\n",
       "      <td>Female</td>\n",
       "      <td>42</td>\n",
       "      <td>2</td>\n",
       "      <td>0.00</td>\n",
       "      <td>1</td>\n",
       "      <td>1</td>\n",
       "      <td>1</td>\n",
       "      <td>101348.88</td>\n",
       "      <td>1</td>\n",
       "    </tr>\n",
       "    <tr>\n",
       "      <th>1</th>\n",
       "      <td>2</td>\n",
       "      <td>15647311</td>\n",
       "      <td>Hill</td>\n",
       "      <td>608</td>\n",
       "      <td>Spain</td>\n",
       "      <td>Female</td>\n",
       "      <td>41</td>\n",
       "      <td>1</td>\n",
       "      <td>83807.86</td>\n",
       "      <td>1</td>\n",
       "      <td>0</td>\n",
       "      <td>1</td>\n",
       "      <td>112542.58</td>\n",
       "      <td>0</td>\n",
       "    </tr>\n",
       "    <tr>\n",
       "      <th>2</th>\n",
       "      <td>3</td>\n",
       "      <td>15619304</td>\n",
       "      <td>Onio</td>\n",
       "      <td>502</td>\n",
       "      <td>France</td>\n",
       "      <td>Female</td>\n",
       "      <td>42</td>\n",
       "      <td>8</td>\n",
       "      <td>159660.80</td>\n",
       "      <td>3</td>\n",
       "      <td>1</td>\n",
       "      <td>0</td>\n",
       "      <td>113931.57</td>\n",
       "      <td>1</td>\n",
       "    </tr>\n",
       "    <tr>\n",
       "      <th>3</th>\n",
       "      <td>4</td>\n",
       "      <td>15701354</td>\n",
       "      <td>Boni</td>\n",
       "      <td>699</td>\n",
       "      <td>France</td>\n",
       "      <td>Female</td>\n",
       "      <td>39</td>\n",
       "      <td>1</td>\n",
       "      <td>0.00</td>\n",
       "      <td>2</td>\n",
       "      <td>0</td>\n",
       "      <td>0</td>\n",
       "      <td>93826.63</td>\n",
       "      <td>0</td>\n",
       "    </tr>\n",
       "    <tr>\n",
       "      <th>4</th>\n",
       "      <td>5</td>\n",
       "      <td>15737888</td>\n",
       "      <td>Mitchell</td>\n",
       "      <td>850</td>\n",
       "      <td>Spain</td>\n",
       "      <td>Female</td>\n",
       "      <td>43</td>\n",
       "      <td>2</td>\n",
       "      <td>125510.82</td>\n",
       "      <td>1</td>\n",
       "      <td>1</td>\n",
       "      <td>1</td>\n",
       "      <td>79084.10</td>\n",
       "      <td>0</td>\n",
       "    </tr>\n",
       "  </tbody>\n",
       "</table>\n",
       "</div>"
      ],
      "text/plain": [
       "   RowNumber  CustomerId   Surname  CreditScore Geography  Gender  Age  \\\n",
       "0          1    15634602  Hargrave          619    France  Female   42   \n",
       "1          2    15647311      Hill          608     Spain  Female   41   \n",
       "2          3    15619304      Onio          502    France  Female   42   \n",
       "3          4    15701354      Boni          699    France  Female   39   \n",
       "4          5    15737888  Mitchell          850     Spain  Female   43   \n",
       "\n",
       "   Tenure    Balance  NumOfProducts  HasCrCard  IsActiveMember  \\\n",
       "0       2       0.00              1          1               1   \n",
       "1       1   83807.86              1          0               1   \n",
       "2       8  159660.80              3          1               0   \n",
       "3       1       0.00              2          0               0   \n",
       "4       2  125510.82              1          1               1   \n",
       "\n",
       "   EstimatedSalary  Exited  \n",
       "0        101348.88       1  \n",
       "1        112542.58       0  \n",
       "2        113931.57       1  \n",
       "3         93826.63       0  \n",
       "4         79084.10       0  "
      ]
     },
     "metadata": {},
     "output_type": "display_data"
    },
    {
     "data": {
      "text/markdown": [
       "### `Dicionário de Dados`"
      ],
      "text/plain": [
       "<IPython.core.display.Markdown object>"
      ]
     },
     "metadata": {},
     "output_type": "display_data"
    },
    {
     "data": {
      "text/html": [
       "<div>\n",
       "<style scoped>\n",
       "    .dataframe tbody tr th:only-of-type {\n",
       "        vertical-align: middle;\n",
       "    }\n",
       "\n",
       "    .dataframe tbody tr th {\n",
       "        vertical-align: top;\n",
       "    }\n",
       "\n",
       "    .dataframe thead th {\n",
       "        text-align: right;\n",
       "    }\n",
       "</style>\n",
       "<table border=\"1\" class=\"dataframe\">\n",
       "  <thead>\n",
       "    <tr style=\"text-align: right;\">\n",
       "      <th></th>\n",
       "      <th>Variavel</th>\n",
       "      <th>Descrição</th>\n",
       "      <th>Tipo</th>\n",
       "      <th>Subtipo</th>\n",
       "    </tr>\n",
       "  </thead>\n",
       "  <tbody>\n",
       "    <tr>\n",
       "      <th>0</th>\n",
       "      <td>RowNumber</td>\n",
       "      <td>O número sequencial atribuído a cada linha no ...</td>\n",
       "      <td>Quantitativo</td>\n",
       "      <td>Discreta</td>\n",
       "    </tr>\n",
       "    <tr>\n",
       "      <th>1</th>\n",
       "      <td>CustomerId</td>\n",
       "      <td>Identificador único de cada cliente</td>\n",
       "      <td>Qualitativo</td>\n",
       "      <td>Nominal</td>\n",
       "    </tr>\n",
       "    <tr>\n",
       "      <th>2</th>\n",
       "      <td>Surname</td>\n",
       "      <td>Indica o sobrenome do cliente.</td>\n",
       "      <td>Qualitativo</td>\n",
       "      <td>Nominal</td>\n",
       "    </tr>\n",
       "    <tr>\n",
       "      <th>3</th>\n",
       "      <td>CreditScore</td>\n",
       "      <td>Indica a pontuação de crédito do cliente.</td>\n",
       "      <td>Quantitativo</td>\n",
       "      <td>Discreta</td>\n",
       "    </tr>\n",
       "    <tr>\n",
       "      <th>4</th>\n",
       "      <td>Geography</td>\n",
       "      <td>Localização geográfica do cliente (país ou reg...</td>\n",
       "      <td>Qualitativo</td>\n",
       "      <td>Nominal</td>\n",
       "    </tr>\n",
       "    <tr>\n",
       "      <th>5</th>\n",
       "      <td>Gender</td>\n",
       "      <td>Gênero do cliente</td>\n",
       "      <td>Qualitativo</td>\n",
       "      <td>Nominal</td>\n",
       "    </tr>\n",
       "    <tr>\n",
       "      <th>6</th>\n",
       "      <td>Age</td>\n",
       "      <td>Idade do cliente</td>\n",
       "      <td>Quantitativo</td>\n",
       "      <td>Discreta</td>\n",
       "    </tr>\n",
       "    <tr>\n",
       "      <th>7</th>\n",
       "      <td>Tenure</td>\n",
       "      <td>Indica número de anos que o cliente está no ba...</td>\n",
       "      <td>Quantitativo</td>\n",
       "      <td>Discreta</td>\n",
       "    </tr>\n",
       "    <tr>\n",
       "      <th>8</th>\n",
       "      <td>Balance</td>\n",
       "      <td>Indica o saldo da conta do cliente</td>\n",
       "      <td>Quantitativo</td>\n",
       "      <td>Contínua</td>\n",
       "    </tr>\n",
       "    <tr>\n",
       "      <th>9</th>\n",
       "      <td>NumOfProducts</td>\n",
       "      <td>Indica o número de produtos bancários que o cl...</td>\n",
       "      <td>Quantitativo</td>\n",
       "      <td>Discreta</td>\n",
       "    </tr>\n",
       "    <tr>\n",
       "      <th>10</th>\n",
       "      <td>HasCrCard</td>\n",
       "      <td>Indica se o cliente tem cartão de crédito (sim...</td>\n",
       "      <td>Qualitativo</td>\n",
       "      <td>Nominal</td>\n",
       "    </tr>\n",
       "    <tr>\n",
       "      <th>11</th>\n",
       "      <td>IsActiveMember</td>\n",
       "      <td>Indica se o cliente é um membro ativo (sim ou ...</td>\n",
       "      <td>Qualitativo</td>\n",
       "      <td>Nominal</td>\n",
       "    </tr>\n",
       "    <tr>\n",
       "      <th>12</th>\n",
       "      <td>EstimatedSalary</td>\n",
       "      <td>Indica o salário estimado do cliente</td>\n",
       "      <td>Quantitativo</td>\n",
       "      <td>Contínua</td>\n",
       "    </tr>\n",
       "    <tr>\n",
       "      <th>13</th>\n",
       "      <td>Exited</td>\n",
       "      <td>Indica se o cliente saiu ou não do banco (sim ...</td>\n",
       "      <td>Qualitativo</td>\n",
       "      <td>Nominal</td>\n",
       "    </tr>\n",
       "  </tbody>\n",
       "</table>\n",
       "</div>"
      ],
      "text/plain": [
       "           Variavel                                          Descrição  \\\n",
       "0         RowNumber  O número sequencial atribuído a cada linha no ...   \n",
       "1        CustomerId                Identificador único de cada cliente   \n",
       "2           Surname                     Indica o sobrenome do cliente.   \n",
       "3       CreditScore          Indica a pontuação de crédito do cliente.   \n",
       "4         Geography  Localização geográfica do cliente (país ou reg...   \n",
       "5            Gender                                  Gênero do cliente   \n",
       "6               Age                                   Idade do cliente   \n",
       "7            Tenure  Indica número de anos que o cliente está no ba...   \n",
       "8           Balance                 Indica o saldo da conta do cliente   \n",
       "9     NumOfProducts  Indica o número de produtos bancários que o cl...   \n",
       "10        HasCrCard  Indica se o cliente tem cartão de crédito (sim...   \n",
       "11   IsActiveMember  Indica se o cliente é um membro ativo (sim ou ...   \n",
       "12  EstimatedSalary               Indica o salário estimado do cliente   \n",
       "13           Exited  Indica se o cliente saiu ou não do banco (sim ...   \n",
       "\n",
       "            Tipo   Subtipo  \n",
       "0   Quantitativo  Discreta  \n",
       "1    Qualitativo   Nominal  \n",
       "2    Qualitativo   Nominal  \n",
       "3   Quantitativo  Discreta  \n",
       "4    Qualitativo   Nominal  \n",
       "5    Qualitativo   Nominal  \n",
       "6   Quantitativo  Discreta  \n",
       "7   Quantitativo  Discreta  \n",
       "8   Quantitativo  Contínua  \n",
       "9   Quantitativo  Discreta  \n",
       "10   Qualitativo   Nominal  \n",
       "11   Qualitativo   Nominal  \n",
       "12  Quantitativo  Contínua  \n",
       "13   Qualitativo   Nominal  "
      ]
     },
     "metadata": {},
     "output_type": "display_data"
    },
    {
     "data": {
      "text/markdown": [
       "---\n",
       " **DataSet possue 12 variáveis sendo elas:**"
      ],
      "text/plain": [
       "<IPython.core.display.Markdown object>"
      ]
     },
     "metadata": {},
     "output_type": "display_data"
    },
    {
     "name": "stdout",
     "output_type": "stream",
     "text": [
      "RowNumber,  CustomerId,  Surname,  CreditScore,  Geography,  Gender,  Age,  Tenure,  Balance,  NumOfProducts,  HasCrCard,  IsActiveMember,  EstimatedSalary,  Exited,  "
     ]
    },
    {
     "data": {
      "text/markdown": [
       "---\n"
      ],
      "text/plain": [
       "<IPython.core.display.Markdown object>"
      ]
     },
     "metadata": {},
     "output_type": "display_data"
    },
    {
     "data": {
      "text/markdown": [
       "### `Categoria das Variáveis`"
      ],
      "text/plain": [
       "<IPython.core.display.Markdown object>"
      ]
     },
     "metadata": {},
     "output_type": "display_data"
    },
    {
     "data": {
      "text/html": [
       "<div>\n",
       "<style scoped>\n",
       "    .dataframe tbody tr th:only-of-type {\n",
       "        vertical-align: middle;\n",
       "    }\n",
       "\n",
       "    .dataframe tbody tr th {\n",
       "        vertical-align: top;\n",
       "    }\n",
       "\n",
       "    .dataframe thead th {\n",
       "        text-align: right;\n",
       "    }\n",
       "</style>\n",
       "<table border=\"1\" class=\"dataframe\">\n",
       "  <thead>\n",
       "    <tr style=\"text-align: right;\">\n",
       "      <th></th>\n",
       "      <th></th>\n",
       "      <th>0</th>\n",
       "    </tr>\n",
       "    <tr>\n",
       "      <th>Tipo</th>\n",
       "      <th>Subtipo</th>\n",
       "      <th></th>\n",
       "    </tr>\n",
       "  </thead>\n",
       "  <tbody>\n",
       "    <tr>\n",
       "      <th>Qualitativo</th>\n",
       "      <th>Nominal</th>\n",
       "      <td>7</td>\n",
       "    </tr>\n",
       "    <tr>\n",
       "      <th rowspan=\"2\" valign=\"top\">Quantitativo</th>\n",
       "      <th>Discreta</th>\n",
       "      <td>5</td>\n",
       "    </tr>\n",
       "    <tr>\n",
       "      <th>Contínua</th>\n",
       "      <td>2</td>\n",
       "    </tr>\n",
       "  </tbody>\n",
       "</table>\n",
       "</div>"
      ],
      "text/plain": [
       "                       0\n",
       "Tipo         Subtipo    \n",
       "Qualitativo  Nominal   7\n",
       "Quantitativo Discreta  5\n",
       "             Contínua  2"
      ]
     },
     "metadata": {},
     "output_type": "display_data"
    }
   ],
   "source": [
    "df_dict = pd.read_csv(\"../data/external/dicionario.csv\")\n",
    "df = pd.read_csv(\"../data/raw/Churn_Modelling.csv\")\n",
    "\n",
    "#Print Descrição\n",
    "display(md(\"### `Descrição do DataSet`\"))\n",
    "display(md(\"\"\" --- \\n Este conjunto de dados contém informações sobre **clientes bancários e seu status de rotatividade**, \n",
    "                 o que indica se eles saíram do banco ou não. É adequado para explorar e analisar fatores que influenciam a \n",
    "                 rotatividade de clientes em instituições bancárias e para construir modelos preditivos para identificar clientes em risco de rotatividade.\n",
    "                 \\n---   \n",
    "                \"\"\"))\n",
    "\n",
    "#Print DataSet\n",
    "display(md(\"### `DataSet`\"))\n",
    "display(df.head())\n",
    "\n",
    "#Print Dicionario\n",
    "display(md(\"### `Dicionário de Dados`\"))\n",
    "display(df_dict)\n",
    "\n",
    "nome_variavel = df_dict['Variavel']\n",
    "\n",
    "#Tipo e Subtipos\n",
    "display(md('---\\n **DataSet possue 12 variáveis sendo elas:**'))\n",
    "for variavel in nome_variavel:\n",
    "    print(f\"{variavel}, \" , end=' ')\n",
    "display(md('---\\n'))\n",
    "\n",
    "display(md(\"### `Categoria das Variáveis`\"))\n",
    "display(df_dict[['Tipo', 'Subtipo']].value_counts().to_frame())"
   ]
  },
  {
   "cell_type": "markdown",
   "metadata": {},
   "source": [
    "# 2. Perguntas de partida e hipóteses"
   ]
  },
  {
   "cell_type": "markdown",
   "metadata": {},
   "source": [
    "### Dados Faltantes"
   ]
  },
  {
   "cell_type": "code",
   "execution_count": null,
   "metadata": {},
   "outputs": [],
   "source": []
  },
  {
   "cell_type": "markdown",
   "metadata": {},
   "source": [
    "# 3. Insights"
   ]
  },
  {
   "cell_type": "code",
   "execution_count": null,
   "metadata": {},
   "outputs": [],
   "source": []
  }
 ],
 "metadata": {
  "kernelspec": {
   "display_name": "Python 3 (ipykernel)",
   "language": "python",
   "name": "python3"
  },
  "language_info": {
   "codemirror_mode": {
    "name": "ipython",
    "version": 3
   },
   "file_extension": ".py",
   "mimetype": "text/x-python",
   "name": "python",
   "nbconvert_exporter": "python",
   "pygments_lexer": "ipython3",
   "version": "3.10.11"
  },
  "vscode": {
   "interpreter": {
    "hash": "eb3c3305d8b111f0102f4f519c5f17abd113fe74db6752c355e994a9008815ef"
   }
  }
 },
 "nbformat": 4,
 "nbformat_minor": 4
}
